{
 "cells": [
  {
   "cell_type": "code",
   "execution_count": 156,
   "metadata": {},
   "outputs": [
    {
     "name": "stdout",
     "output_type": "stream",
     "text": [
      "[[-0.75240029 -1.99282674]\n",
      " [-0.70202519 -1.93544494]\n",
      " [ 0.05818474 -1.02032104]\n",
      " ...\n",
      " [ 1.5959147   2.05371542]\n",
      " [-1.08774709 -3.57438527]\n",
      " [-0.85577837 -1.10528835]]\n"
     ]
    }
   ],
   "source": [
    "import numpy as np\n",
    "\n",
    "def load_data():\n",
    "    data = np.genfromtxt ('data.csv', delimiter=\",\")\n",
    "    print (data)\n",
    "    \n",
    "    d = len(data)\n",
    "    \n",
    "    for i in range(d):\n",
    "        x = data[i,0]\n",
    "        y = data[i,1]\n",
    "        points.append((x,y))\n",
    "        \n",
    "    return points\n",
    "points = load_data()\n",
    "\n",
    "    \n"
   ]
  },
  {
   "cell_type": "code",
   "execution_count": 154,
   "metadata": {},
   "outputs": [
    {
     "name": "stdout",
     "output_type": "stream",
     "text": [
      "iteration : 0,w : [0.02998807], f : [3.97135843], g :[-2.99880684]\n",
      "iteration : 1,w : [0.05963661], f : [3.88193909], g :[-2.96485398]\n",
      "iteration : 2,w : [0.08894946], f : [3.79453313], g :[-2.93128553]\n",
      "iteration : 3,w : [0.11793044], f : [3.7090952], g :[-2.89809715]\n",
      "iteration : 4,w : [0.14658328], f : [3.625581], g :[-2.86528454]\n",
      "iteration : 5,w : [0.17491171], f : [3.54394721], g :[-2.83284343]\n",
      "iteration : 6,w : [0.20291941], f : [3.4641515], g :[-2.80076963]\n",
      "iteration : 7,w : [0.23061], f : [3.38615246], g :[-2.76905897]\n",
      "iteration : 8,w : [0.25798707], f : [3.30990966], g :[-2.73770734]\n",
      "iteration : 9,w : [0.28505418], f : [3.23538354], g :[-2.70671068]\n",
      "iteration : 10,w : [0.31181483], f : [3.16253546], g :[-2.67606496]\n",
      "iteration : 11,w : [0.33827249], f : [3.09132763], g :[-2.64576622]\n",
      "iteration : 12,w : [0.3644306], f : [3.02172312], g :[-2.61581053]\n",
      "iteration : 13,w : [0.39029254], f : [2.95368583], g :[-2.586194]\n",
      "iteration : 14,w : [0.41586167], f : [2.88718047], g :[-2.55691279]\n",
      "iteration : 15,w : [0.4411413], f : [2.82217255], g :[-2.52796311]\n",
      "iteration : 16,w : [0.46613471], f : [2.75862835], g :[-2.4993412]\n",
      "iteration : 17,w : [0.49084514], f : [2.69651492], g :[-2.47104334]\n",
      "iteration : 18,w : [0.5152758], f : [2.63580003], g :[-2.44306589]\n",
      "iteration : 19,w : [0.53942985], f : [2.57645221], g :[-2.41540519]\n",
      "iteration : 20,w : [0.56331043], f : [2.51844066], g :[-2.38805767]\n",
      "iteration : 21,w : [0.58692063], f : [2.46173531], g :[-2.36101979]\n",
      "iteration : 22,w : [0.61026351], f : [2.40630673], g :[-2.33428803]\n",
      "iteration : 23,w : [0.6333421], f : [2.35212619], g :[-2.30785893]\n",
      "iteration : 24,w : [0.65615939], f : [2.29916558], g :[-2.28172907]\n",
      "iteration : 25,w : [0.67871834], f : [2.24739744], g :[-2.25589505]\n",
      "iteration : 26,w : [0.70102187], f : [2.19679491], g :[-2.23035352]\n",
      "iteration : 27,w : [0.72307289], f : [2.14733175], g :[-2.20510119]\n",
      "iteration : 28,w : [0.74487423], f : [2.09898231], g :[-2.18013476]\n",
      "iteration : 29,w : [0.76642874], f : [2.0517215], g :[-2.155451]\n",
      "iteration : 30,w : [0.78773921], f : [2.00552482], g :[-2.13104672]\n",
      "iteration : 31,w : [0.8088084], f : [1.96036831], g :[-2.10691874]\n",
      "iteration : 32,w : [0.82963904], f : [1.91622854], g :[-2.08306395]\n",
      "iteration : 33,w : [0.85023383], f : [1.87308263], g :[-2.05947924]\n",
      "iteration : 34,w : [0.87059545], f : [1.8309082], g :[-2.03616156]\n",
      "iteration : 35,w : [0.89072652], f : [1.78968336], g :[-2.01310789]\n",
      "iteration : 36,w : [0.91062968], f : [1.74938675], g :[-1.99031523]\n",
      "iteration : 37,w : [0.93030748], f : [1.70999746], g :[-1.96778063]\n",
      "iteration : 38,w : [0.94976249], f : [1.67149506], g :[-1.94550118]\n",
      "iteration : 39,w : [0.96899723], f : [1.63385958], g :[-1.92347397]\n",
      "iteration : 40,w : [0.9880142], f : [1.5970715], g :[-1.90169616]\n",
      "iteration : 41,w : [1.00681585], f : [1.56111175], g :[-1.88016492]\n",
      "iteration : 42,w : [1.02540462], f : [1.52596167], g :[-1.85887746]\n",
      "iteration : 43,w : [1.04378293], f : [1.49160303], g :[-1.83783102]\n",
      "iteration : 44,w : [1.06195316], f : [1.45801801], g :[-1.81702287]\n",
      "iteration : 45,w : [1.07991766], f : [1.42518919], g :[-1.79645031]\n",
      "iteration : 46,w : [1.09767877], f : [1.39309955], g :[-1.77611068]\n",
      "iteration : 47,w : [1.11523878], f : [1.36173244], g :[-1.75600133]\n",
      "iteration : 48,w : [1.13259998], f : [1.33107159], g :[-1.73611967]\n",
      "iteration : 49,w : [1.14976461], f : [1.30110111], g :[-1.71646311]\n"
     ]
    }
   ],
   "source": [
    "def sF(w,i):\n",
    "    x,y = points[i]\n",
    "    value = (x.dot(w)-y)**2\n",
    "    return value\n",
    "\n",
    "\n",
    "def sdF(w,i):\n",
    "    x,y = points[i]\n",
    "    value = 2*(x.dot(w)-y)*x\n",
    "    return value\n",
    "\n",
    "\n",
    "def stochasticGradientD():\n",
    "    w = np.zeros(1)\n",
    "    l = 0.01\n",
    "    for i in range(50):\n",
    "        for j in range(d):\n",
    "            f = sF(w,j)\n",
    "            g = sdF(w,j)\n",
    "            w = w - l * g\n",
    "        print(\"iteration : {},w : {}, f : {}, g :{}\".format(i,w,f,g))\n",
    "        \n",
    "stochasticGradientD()"
   ]
  }
 ],
 "metadata": {
  "kernelspec": {
   "display_name": "Python 3",
   "language": "python",
   "name": "python3"
  },
  "language_info": {
   "codemirror_mode": {
    "name": "ipython",
    "version": 3
   },
   "file_extension": ".py",
   "mimetype": "text/x-python",
   "name": "python",
   "nbconvert_exporter": "python",
   "pygments_lexer": "ipython3",
   "version": "3.6.5"
  }
 },
 "nbformat": 4,
 "nbformat_minor": 2
}

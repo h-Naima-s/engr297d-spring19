{
 "cells": [
  {
   "cell_type": "code",
   "execution_count": 7,
   "metadata": {},
   "outputs": [
    {
     "name": "stdout",
     "output_type": "stream",
     "text": [
      "[1, 1, 0]\n"
     ]
    }
   ],
   "source": [
    "# QUESTION-1\n",
    "\n",
    "import tensorflow as tf\n",
    "import numpy as np\n",
    "def tf_reset():\n",
    "    try:\n",
    "        sess.close()\n",
    "    except:\n",
    "        pass\n",
    "    tf.reset_default_graph()\n",
    "    return tf.Session()\n",
    "\n",
    "data = np.array([[1,3,1,1],[1,1,3,1],[1,1,0.5,-1]])\n",
    "\n",
    "\n",
    "#Manual Predictions\n",
    "v1 = np.array([[-1.0],[1.0],[-1.0]])\n",
    "v2 = np.array([[-1.0],[-1.0],[1.0]])\n",
    "w1 = np.array([[1.0]])\n",
    "w2 = np.array([[1.0]])\n",
    "prediction = []\n",
    "for i in range(len(data)):\n",
    "    row = np.reshape(data[i,:3],(1,3))\n",
    "    h1 = 1 if row.dot(v1) > 0 else 0\n",
    "    h2 = 1 if row.dot(v2) > 0 else 0\n",
    "    prediction.append(1 if (h1*w1 + h2*w2)>0 else 0)\n",
    "\n",
    "d=3\n",
    "prediction == data[:,3]\n",
    "print(prediction)\n",
    "out = np.array(data[:,3])\n",
    "out = np.reshape(out,(d,1))"
   ]
  },
  {
   "cell_type": "code",
   "execution_count": 14,
   "metadata": {},
   "outputs": [
    {
     "name": "stdout",
     "output_type": "stream",
     "text": [
      "[array([[-0.03315327],\n",
      "       [ 0.97620565],\n",
      "       [-0.8763997 ]], dtype=float32)]\n"
     ]
    }
   ],
   "source": [
    "# QUESTION-1 (learning rate 0.01)\n",
    "\n",
    "sess = tf_reset()\n",
    "input_ph = tf.placeholder(dtype=tf.float32, shape=[None, 3])\n",
    "output_ph = tf.placeholder(dtype=tf.float32, shape=[None,1])\n",
    "\n",
    "V1 = tf.get_variable(name='v1', shape=[3,1], initializer=tf.initializers.random_normal())\n",
    "#V1 = tf.get_variable(name='v1', initializer=v1)\n",
    "V2 = tf.get_variable(name='v2', shape=[3,1], initializer=tf.initializers.random_normal())\n",
    "\n",
    "\n",
    "W1 = tf.get_variable(name='w1', shape=[1,1], initializer=tf.initializers.random_normal())\n",
    "W2 = tf.get_variable(name='w2', shape=[1,1], initializer=tf.initializers.random_normal())\n",
    "\n",
    "h1 = tf.sigmoid(tf.matmul(input_ph, V1))\n",
    "h2 = tf.sigmoid(tf.matmul(input_ph, V2))\n",
    "\n",
    "tmp1 = tf.matmul(h1, W1)\n",
    "tmp2 = tf.matmul(h2, W2)\n",
    "\n",
    "f = tf.add(tmp1, tmp2)\n",
    "sess.run(tf.global_variables_initializer())\n",
    "\n",
    "loss = tf.reduce_mean(tf.square(f-output_ph))\n",
    "opt = tf.train.GradientDescentOptimizer(learning_rate = 0.01).minimize(loss)\n",
    "\n",
    "_,mse = sess.run([opt, loss], feed_dict={input_ph : data[:, :3], output_ph : out})\n",
    "for i in range(2000):\n",
    "    _,mse = sess.run([opt,loss], feed_dict={input_ph : data[:, :3], output_ph : out})\n",
    "                                            \n",
    "pred = sess.run([f], feed_dict={input_ph : data[:, :3]})\n",
    "\n",
    "print(pred)"
   ]
  },
  {
   "cell_type": "code",
   "execution_count": 15,
   "metadata": {},
   "outputs": [
    {
     "name": "stdout",
     "output_type": "stream",
     "text": [
      "[array([[ 1.0000024],\n",
      "       [ 1.0000005],\n",
      "       [-1.0000031]], dtype=float32)]\n"
     ]
    }
   ],
   "source": [
    "# QUESTION-1 (learning rate 0.1)\n",
    "\n",
    "sess = tf_reset()\n",
    "input_ph = tf.placeholder(dtype=tf.float32, shape=[None, 3])\n",
    "output_ph = tf.placeholder(dtype=tf.float32, shape=[None,1])\n",
    "\n",
    "V1 = tf.get_variable(name='v1', shape=[3,1], initializer=tf.initializers.random_normal())\n",
    "#V1 = tf.get_variable(name='v1', initializer=v1)\n",
    "V2 = tf.get_variable(name='v2', shape=[3,1], initializer=tf.initializers.random_normal())\n",
    "\n",
    "\n",
    "W1 = tf.get_variable(name='w1', shape=[1,1], initializer=tf.initializers.random_normal())\n",
    "W2 = tf.get_variable(name='w2', shape=[1,1], initializer=tf.initializers.random_normal())\n",
    "\n",
    "h1 = tf.sigmoid(tf.matmul(input_ph, V1))\n",
    "h2 = tf.sigmoid(tf.matmul(input_ph, V2))\n",
    "\n",
    "tmp1 = tf.matmul(h1, W1)\n",
    "tmp2 = tf.matmul(h2, W2)\n",
    "\n",
    "f = tf.add(tmp1, tmp2)\n",
    "sess.run(tf.global_variables_initializer())\n",
    "\n",
    "loss = tf.reduce_mean(tf.square(f-output_ph))\n",
    "opt = tf.train.GradientDescentOptimizer(learning_rate = 0.1).minimize(loss)\n",
    "\n",
    "_,mse = sess.run([opt, loss], feed_dict={input_ph : data[:, :3], output_ph : out})\n",
    "for i in range(2000):\n",
    "    _,mse = sess.run([opt,loss], feed_dict={input_ph : data[:, :3], output_ph : out})\n",
    "                                            \n",
    "pred = sess.run([f], feed_dict={input_ph : data[:, :3]})\n",
    "\n",
    "print(pred)"
   ]
  },
  {
   "cell_type": "code",
   "execution_count": 26,
   "metadata": {},
   "outputs": [
    {
     "name": "stdout",
     "output_type": "stream",
     "text": [
      "[array([[ 0.9999997],\n",
      "       [ 1.       ],\n",
      "       [-0.9999999]], dtype=float32)]\n"
     ]
    }
   ],
   "source": [
    "# QUESTION-1 (learning rate 0.3)\n",
    "\n",
    "sess = tf_reset()\n",
    "input_ph = tf.placeholder(dtype=tf.float32, shape=[None, 3])\n",
    "output_ph = tf.placeholder(dtype=tf.float32, shape=[None,1])\n",
    "\n",
    "V1 = tf.get_variable(name='v1', shape=[3,1], initializer=tf.initializers.random_normal())\n",
    "#V1 = tf.get_variable(name='v1', initializer=v1)\n",
    "V2 = tf.get_variable(name='v2', shape=[3,1], initializer=tf.initializers.random_normal())\n",
    "\n",
    "\n",
    "W1 = tf.get_variable(name='w1', shape=[1,1], initializer=tf.initializers.random_normal())\n",
    "W2 = tf.get_variable(name='w2', shape=[1,1], initializer=tf.initializers.random_normal())\n",
    "\n",
    "h1 = tf.sigmoid(tf.matmul(input_ph, V1))\n",
    "h2 = tf.sigmoid(tf.matmul(input_ph, V2))\n",
    "\n",
    "tmp1 = tf.matmul(h1, W1)\n",
    "tmp2 = tf.matmul(h2, W2)\n",
    "\n",
    "f = tf.add(tmp1, tmp2)\n",
    "sess.run(tf.global_variables_initializer())\n",
    "\n",
    "loss = tf.reduce_mean(tf.square(f-output_ph))\n",
    "opt = tf.train.GradientDescentOptimizer(learning_rate = 0.3).minimize(loss)\n",
    "\n",
    "_,mse = sess.run([opt, loss], feed_dict={input_ph : data[:, :3], output_ph : out})\n",
    "for i in range(2000):\n",
    "    _,mse = sess.run([opt,loss], feed_dict={input_ph : data[:, :3], output_ph : out})\n",
    "                                            \n",
    "pred = sess.run([f], feed_dict={input_ph : data[:, :3]})\n",
    "\n",
    "print(pred)"
   ]
  },
  {
   "cell_type": "code",
   "execution_count": 12,
   "metadata": {},
   "outputs": [
    {
     "name": "stdout",
     "output_type": "stream",
     "text": [
      "[array([[ 1.0000039],\n",
      "       [ 1.0000035],\n",
      "       [-0.999998 ]], dtype=float32)]\n"
     ]
    }
   ],
   "source": [
    "# QUESTION-1 (learning rate 1)\n",
    "\n",
    "sess = tf_reset()\n",
    "input_ph = tf.placeholder(dtype=tf.float32, shape=[None, 3])\n",
    "output_ph = tf.placeholder(dtype=tf.float32, shape=[None,1])\n",
    "\n",
    "V1 = tf.get_variable(name='v1', shape=[3,1], initializer=tf.initializers.random_normal())\n",
    "#V1 = tf.get_variable(name='v1', initializer=v1)\n",
    "V2 = tf.get_variable(name='v2', shape=[3,1], initializer=tf.initializers.random_normal())\n",
    "\n",
    "\n",
    "W1 = tf.get_variable(name='w1', shape=[1,1], initializer=tf.initializers.random_normal())\n",
    "W2 = tf.get_variable(name='w2', shape=[1,1], initializer=tf.initializers.random_normal())\n",
    "\n",
    "h1 = tf.sigmoid(tf.matmul(input_ph, V1))\n",
    "h2 = tf.sigmoid(tf.matmul(input_ph, V2))\n",
    "\n",
    "tmp1 = tf.matmul(h1, W1)\n",
    "tmp2 = tf.matmul(h2, W2)\n",
    "\n",
    "f = tf.add(tmp1, tmp2)\n",
    "sess.run(tf.global_variables_initializer())\n",
    "\n",
    "loss = tf.reduce_mean(tf.square(f-output_ph))\n",
    "opt = tf.train.GradientDescentOptimizer(learning_rate = 1).minimize(loss)\n",
    "\n",
    "_,mse = sess.run([opt, loss], feed_dict={input_ph : data[:, :3], output_ph : out})\n",
    "for i in range(2000):\n",
    "    _,mse = sess.run([opt,loss], feed_dict={input_ph : data[:, :3], output_ph : out})\n",
    "                                            \n",
    "pred = sess.run([f], feed_dict={input_ph : data[:, :3]})\n",
    "\n",
    "print(pred)"
   ]
  },
  {
   "cell_type": "code",
   "execution_count": 13,
   "metadata": {},
   "outputs": [
    {
     "name": "stdout",
     "output_type": "stream",
     "text": [
      "[array([[1.3484522e-12],\n",
      "       [3.8743050e-11],\n",
      "       [2.8083923e-06]], dtype=float32)]\n"
     ]
    }
   ],
   "source": [
    "# QUESTION-1 (learning rate 3)\n",
    "\n",
    "sess = tf_reset()\n",
    "input_ph = tf.placeholder(dtype=tf.float32, shape=[None, 3])\n",
    "output_ph = tf.placeholder(dtype=tf.float32, shape=[None,1])\n",
    "\n",
    "V1 = tf.get_variable(name='v1', shape=[3,1], initializer=tf.initializers.random_normal())\n",
    "#V1 = tf.get_variable(name='v1', initializer=v1)\n",
    "V2 = tf.get_variable(name='v2', shape=[3,1], initializer=tf.initializers.random_normal())\n",
    "\n",
    "\n",
    "W1 = tf.get_variable(name='w1', shape=[1,1], initializer=tf.initializers.random_normal())\n",
    "W2 = tf.get_variable(name='w2', shape=[1,1], initializer=tf.initializers.random_normal())\n",
    "\n",
    "h1 = tf.sigmoid(tf.matmul(input_ph, V1))\n",
    "h2 = tf.sigmoid(tf.matmul(input_ph, V2))\n",
    "\n",
    "tmp1 = tf.matmul(h1, W1)\n",
    "tmp2 = tf.matmul(h2, W2)\n",
    "\n",
    "f = tf.add(tmp1, tmp2)\n",
    "sess.run(tf.global_variables_initializer())\n",
    "\n",
    "loss = tf.reduce_mean(tf.square(f-output_ph))\n",
    "opt = tf.train.GradientDescentOptimizer(learning_rate = 3).minimize(loss)\n",
    "\n",
    "_,mse = sess.run([opt, loss], feed_dict={input_ph : data[:, :3], output_ph : out})\n",
    "for i in range(2000):\n",
    "    _,mse = sess.run([opt,loss], feed_dict={input_ph : data[:, :3], output_ph : out})\n",
    "                                            \n",
    "pred = sess.run([f], feed_dict={input_ph : data[:, :3]})\n",
    "\n",
    "print(pred)"
   ]
  },
  {
   "cell_type": "code",
   "execution_count": 17,
   "metadata": {},
   "outputs": [
    {
     "name": "stdout",
     "output_type": "stream",
     "text": [
      "[array([[0.33555776],\n",
      "       [0.35464457],\n",
      "       [0.3010065 ]], dtype=float32)]\n"
     ]
    }
   ],
   "source": [
    "# QUESTION-2 (iteration 100)\n",
    "\n",
    "sess = tf_reset()\n",
    "input_ph = tf.placeholder(dtype=tf.float32, shape=[None, 3])\n",
    "output_ph = tf.placeholder(dtype=tf.float32, shape=[None,1])\n",
    "\n",
    "V1 = tf.get_variable(name='v1', shape=[3,1], initializer=tf.initializers.random_normal())\n",
    "#V1 = tf.get_variable(name='v1', initializer=v1)\n",
    "V2 = tf.get_variable(name='v2', shape=[3,1], initializer=tf.initializers.random_normal())\n",
    "\n",
    "\n",
    "W1 = tf.get_variable(name='w1', shape=[1,1], initializer=tf.initializers.random_normal())\n",
    "W2 = tf.get_variable(name='w2', shape=[1,1], initializer=tf.initializers.random_normal())\n",
    "\n",
    "h1 = tf.sigmoid(tf.matmul(input_ph, V1))\n",
    "h2 = tf.sigmoid(tf.matmul(input_ph, V2))\n",
    "\n",
    "tmp1 = tf.matmul(h1, W1)\n",
    "tmp2 = tf.matmul(h2, W2)\n",
    "\n",
    "f = tf.add(tmp1, tmp2)\n",
    "sess.run(tf.global_variables_initializer())\n",
    "\n",
    "loss = tf.reduce_mean(tf.square(f-output_ph))\n",
    "opt = tf.train.GradientDescentOptimizer(learning_rate = 0.03).minimize(loss)\n",
    "\n",
    "_,mse = sess.run([opt, loss], feed_dict={input_ph : data[:, :3], output_ph : out})\n",
    "for i in range(100):\n",
    "    _,mse = sess.run([opt,loss], feed_dict={input_ph : data[:, :3], output_ph : out})\n",
    "                                            \n",
    "pred = sess.run([f], feed_dict={input_ph : data[:, :3]})\n",
    "\n",
    "print(pred)"
   ]
  },
  {
   "cell_type": "code",
   "execution_count": 18,
   "metadata": {},
   "outputs": [
    {
     "name": "stdout",
     "output_type": "stream",
     "text": [
      "[array([[ 1.0000033 ],\n",
      "       [ 0.99999726],\n",
      "       [-1.0000008 ]], dtype=float32)]\n"
     ]
    }
   ],
   "source": [
    "# QUESTION-2 (iteration 500)\n",
    "\n",
    "sess = tf_reset()\n",
    "input_ph = tf.placeholder(dtype=tf.float32, shape=[None, 3])\n",
    "output_ph = tf.placeholder(dtype=tf.float32, shape=[None,1])\n",
    "\n",
    "V1 = tf.get_variable(name='v1', shape=[3,1], initializer=tf.initializers.random_normal())\n",
    "#V1 = tf.get_variable(name='v1', initializer=v1)\n",
    "V2 = tf.get_variable(name='v2', shape=[3,1], initializer=tf.initializers.random_normal())\n",
    "\n",
    "\n",
    "W1 = tf.get_variable(name='w1', shape=[1,1], initializer=tf.initializers.random_normal())\n",
    "W2 = tf.get_variable(name='w2', shape=[1,1], initializer=tf.initializers.random_normal())\n",
    "\n",
    "h1 = tf.sigmoid(tf.matmul(input_ph, V1))\n",
    "h2 = tf.sigmoid(tf.matmul(input_ph, V2))\n",
    "\n",
    "tmp1 = tf.matmul(h1, W1)\n",
    "tmp2 = tf.matmul(h2, W2)\n",
    "\n",
    "f = tf.add(tmp1, tmp2)\n",
    "sess.run(tf.global_variables_initializer())\n",
    "\n",
    "loss = tf.reduce_mean(tf.square(f-output_ph))\n",
    "opt = tf.train.GradientDescentOptimizer(learning_rate = 0.03).minimize(loss)\n",
    "\n",
    "_,mse = sess.run([opt, loss], feed_dict={input_ph : data[:, :3], output_ph : out})\n",
    "for i in range(500):\n",
    "    _,mse = sess.run([opt,loss], feed_dict={input_ph : data[:, :3], output_ph : out})\n",
    "                                            \n",
    "pred = sess.run([f], feed_dict={input_ph : data[:, :3]})\n",
    "\n",
    "print(pred)"
   ]
  },
  {
   "cell_type": "code",
   "execution_count": 19,
   "metadata": {},
   "outputs": [
    {
     "name": "stdout",
     "output_type": "stream",
     "text": [
      "[array([[0.72855735],\n",
      "       [0.9248783 ],\n",
      "       [0.21432264]], dtype=float32)]\n"
     ]
    }
   ],
   "source": [
    "# QUESTION-2 (iteration 1000) \n",
    "\n",
    "sess = tf_reset()\n",
    "input_ph = tf.placeholder(dtype=tf.float32, shape=[None, 3])\n",
    "output_ph = tf.placeholder(dtype=tf.float32, shape=[None,1])\n",
    "\n",
    "V1 = tf.get_variable(name='v1', shape=[3,1], initializer=tf.initializers.random_normal())\n",
    "#V1 = tf.get_variable(name='v1', initializer=v1)\n",
    "V2 = tf.get_variable(name='v2', shape=[3,1], initializer=tf.initializers.random_normal())\n",
    "\n",
    "\n",
    "W1 = tf.get_variable(name='w1', shape=[1,1], initializer=tf.initializers.random_normal())\n",
    "W2 = tf.get_variable(name='w2', shape=[1,1], initializer=tf.initializers.random_normal())\n",
    "\n",
    "h1 = tf.sigmoid(tf.matmul(input_ph, V1))\n",
    "h2 = tf.sigmoid(tf.matmul(input_ph, V2))\n",
    "\n",
    "tmp1 = tf.matmul(h1, W1)\n",
    "tmp2 = tf.matmul(h2, W2)\n",
    "\n",
    "f = tf.add(tmp1, tmp2)\n",
    "sess.run(tf.global_variables_initializer())\n",
    "\n",
    "loss = tf.reduce_mean(tf.square(f-output_ph))\n",
    "opt = tf.train.GradientDescentOptimizer(learning_rate = 0.03).minimize(loss)\n",
    "\n",
    "_,mse = sess.run([opt, loss], feed_dict={input_ph : data[:, :3], output_ph : out})\n",
    "for i in range(1000):\n",
    "    _,mse = sess.run([opt,loss], feed_dict={input_ph : data[:, :3], output_ph : out})\n",
    "                                            \n",
    "pred = sess.run([f], feed_dict={input_ph : data[:, :3]})\n",
    "\n",
    "print(pred)"
   ]
  },
  {
   "cell_type": "code",
   "execution_count": 20,
   "metadata": {},
   "outputs": [
    {
     "name": "stdout",
     "output_type": "stream",
     "text": [
      "[array([[ 0.96892  ],\n",
      "       [ 0.9980339],\n",
      "       [-0.9591453]], dtype=float32)]\n"
     ]
    }
   ],
   "source": [
    "# QUESTION-2 (iteration 1500)\n",
    "\n",
    "sess = tf_reset()\n",
    "input_ph = tf.placeholder(dtype=tf.float32, shape=[None, 3])\n",
    "output_ph = tf.placeholder(dtype=tf.float32, shape=[None,1])\n",
    "\n",
    "V1 = tf.get_variable(name='v1', shape=[3,1], initializer=tf.initializers.random_normal())\n",
    "#V1 = tf.get_variable(name='v1', initializer=v1)\n",
    "V2 = tf.get_variable(name='v2', shape=[3,1], initializer=tf.initializers.random_normal())\n",
    "\n",
    "\n",
    "W1 = tf.get_variable(name='w1', shape=[1,1], initializer=tf.initializers.random_normal())\n",
    "W2 = tf.get_variable(name='w2', shape=[1,1], initializer=tf.initializers.random_normal())\n",
    "\n",
    "h1 = tf.sigmoid(tf.matmul(input_ph, V1))\n",
    "h2 = tf.sigmoid(tf.matmul(input_ph, V2))\n",
    "\n",
    "tmp1 = tf.matmul(h1, W1)\n",
    "tmp2 = tf.matmul(h2, W2)\n",
    "\n",
    "f = tf.add(tmp1, tmp2)\n",
    "sess.run(tf.global_variables_initializer())\n",
    "\n",
    "loss = tf.reduce_mean(tf.square(f-output_ph))\n",
    "opt = tf.train.GradientDescentOptimizer(learning_rate = 0.03).minimize(loss)\n",
    "\n",
    "_,mse = sess.run([opt, loss], feed_dict={input_ph : data[:, :3], output_ph : out})\n",
    "for i in range(1500):\n",
    "    _,mse = sess.run([opt,loss], feed_dict={input_ph : data[:, :3], output_ph : out})\n",
    "                                            \n",
    "pred = sess.run([f], feed_dict={input_ph : data[:, :3]})\n",
    "\n",
    "print(pred)"
   ]
  },
  {
   "cell_type": "code",
   "execution_count": 27,
   "metadata": {},
   "outputs": [
    {
     "name": "stdout",
     "output_type": "stream",
     "text": [
      "[array([[ 0.9999941 ],\n",
      "       [ 0.99999833],\n",
      "       [-0.9999871 ]], dtype=float32)]\n"
     ]
    }
   ],
   "source": [
    "# QUESTION-2 (iteration 2000)\n",
    "\n",
    "sess = tf_reset()\n",
    "input_ph = tf.placeholder(dtype=tf.float32, shape=[None, 3])\n",
    "output_ph = tf.placeholder(dtype=tf.float32, shape=[None,1])\n",
    "\n",
    "V1 = tf.get_variable(name='v1', shape=[3,1], initializer=tf.initializers.random_normal())\n",
    "#V1 = tf.get_variable(name='v1', initializer=v1)\n",
    "V2 = tf.get_variable(name='v2', shape=[3,1], initializer=tf.initializers.random_normal())\n",
    "\n",
    "\n",
    "W1 = tf.get_variable(name='w1', shape=[1,1], initializer=tf.initializers.random_normal())\n",
    "W2 = tf.get_variable(name='w2', shape=[1,1], initializer=tf.initializers.random_normal())\n",
    "\n",
    "h1 = tf.sigmoid(tf.matmul(input_ph, V1))\n",
    "h2 = tf.sigmoid(tf.matmul(input_ph, V2))\n",
    "\n",
    "tmp1 = tf.matmul(h1, W1)\n",
    "tmp2 = tf.matmul(h2, W2)\n",
    "\n",
    "f = tf.add(tmp1, tmp2)\n",
    "sess.run(tf.global_variables_initializer())\n",
    "\n",
    "loss = tf.reduce_mean(tf.square(f-output_ph))\n",
    "opt = tf.train.GradientDescentOptimizer(learning_rate = 0.03).minimize(loss)\n",
    "\n",
    "_,mse = sess.run([opt, loss], feed_dict={input_ph : data[:, :3], output_ph : out})\n",
    "for i in range(2000):\n",
    "    _,mse = sess.run([opt,loss], feed_dict={input_ph : data[:, :3], output_ph : out})\n",
    "                                            \n",
    "pred = sess.run([f], feed_dict={input_ph : data[:, :3]})\n",
    "\n",
    "print(pred)"
   ]
  },
  {
   "cell_type": "code",
   "execution_count": 25,
   "metadata": {},
   "outputs": [
    {
     "name": "stdout",
     "output_type": "stream",
     "text": [
      "[array([[0.8338468 ],\n",
      "       [0.9824825 ],\n",
      "       [0.12150617]], dtype=float32)]\n"
     ]
    }
   ],
   "source": [
    "# QUESTION-2 (iteration 3000)\n",
    "\n",
    "sess = tf_reset()\n",
    "input_ph = tf.placeholder(dtype=tf.float32, shape=[None, 3])\n",
    "output_ph = tf.placeholder(dtype=tf.float32, shape=[None,1])\n",
    "\n",
    "V1 = tf.get_variable(name='v1', shape=[3,1], initializer=tf.initializers.random_normal())\n",
    "#V1 = tf.get_variable(name='v1', initializer=v1)\n",
    "V2 = tf.get_variable(name='v2', shape=[3,1], initializer=tf.initializers.random_normal())\n",
    "\n",
    "\n",
    "W1 = tf.get_variable(name='w1', shape=[1,1], initializer=tf.initializers.random_normal())\n",
    "W2 = tf.get_variable(name='w2', shape=[1,1], initializer=tf.initializers.random_normal())\n",
    "\n",
    "h1 = tf.sigmoid(tf.matmul(input_ph, V1))\n",
    "h2 = tf.sigmoid(tf.matmul(input_ph, V2))\n",
    "\n",
    "tmp1 = tf.matmul(h1, W1)\n",
    "tmp2 = tf.matmul(h2, W2)\n",
    "\n",
    "f = tf.add(tmp1, tmp2)\n",
    "sess.run(tf.global_variables_initializer())\n",
    "\n",
    "loss = tf.reduce_mean(tf.square(f-output_ph))\n",
    "opt = tf.train.GradientDescentOptimizer(learning_rate = 0.03).minimize(loss)\n",
    "\n",
    "_,mse = sess.run([opt, loss], feed_dict={input_ph : data[:, :3], output_ph : out})\n",
    "for i in range(3000):\n",
    "    _,mse = sess.run([opt,loss], feed_dict={input_ph : data[:, :3], output_ph : out})\n",
    "                                            \n",
    "pred = sess.run([f], feed_dict={input_ph : data[:, :3]})\n",
    "\n",
    "print(pred)"
   ]
  }
 ],
 "metadata": {
  "kernelspec": {
   "display_name": "Python 3",
   "language": "python",
   "name": "python3"
  },
  "language_info": {
   "codemirror_mode": {
    "name": "ipython",
    "version": 3
   },
   "file_extension": ".py",
   "mimetype": "text/x-python",
   "name": "python",
   "nbconvert_exporter": "python",
   "pygments_lexer": "ipython3",
   "version": "3.6.5"
  }
 },
 "nbformat": 4,
 "nbformat_minor": 2
}

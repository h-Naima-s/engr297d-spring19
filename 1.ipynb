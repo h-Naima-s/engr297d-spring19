{
 "cells": [
  {
   "cell_type": "code",
   "execution_count": 1,
   "metadata": {},
   "outputs": [
    {
     "name": "stdout",
     "output_type": "stream",
     "text": [
      "The index is: 0\n",
      "\n",
      "Zara is 26 year old.\n"
     ]
    }
   ],
   "source": [
    "# what is a python tuple? Briefly describe with an example(tuple+finind an element).\n",
    "\n",
    "## Answer:\n",
    "\"\"\" Tuples are ordered data structures to store values. \n",
    "Tuples are sequences of objects that are immutable (cannot be changed or modified) and use parentheses. \"\"\"\n",
    "\n",
    "\n",
    "tuple1 = (\"Andy\", \"Zara\")\n",
    "tuple2 = (\"26\", \"25\")\n",
    "\n",
    "if (tuple1[1] == \"Zara\"):\n",
    "    index_age = tuple2.index(\"26\")\n",
    "    print (\"The index is: \" + str(index_age) + \"\\n\")\n",
    "    \n",
    "    if index_age == 0:\n",
    "        print (\"Zara is \" + tuple2[index_age] + \" year old.\")\n",
    "    else:\n",
    "        print(\"Andy is 25 year old.\")\n",
    "        \n",
    "else:\n",
    "    print (\"Nothing Found!\")"
   ]
  },
  {
   "cell_type": "code",
   "execution_count": 2,
   "metadata": {},
   "outputs": [
    {
     "name": "stdout",
     "output_type": "stream",
     "text": [
      "Tuesday\n",
      "\n",
      "Sunday\n",
      "\n"
     ]
    }
   ],
   "source": [
    "# what is a python dictionary? Briefly describe with an example(dictionary+finding an element).\n",
    "\n",
    "## Answer: \n",
    "\"\"\" Dictionary is mapping of uniques keys to values.\n",
    "It allows to store information called key-values pairs. \n",
    "When you want a piece of information from them, refer to it by it`s key.\"\"\"\n",
    "\n",
    "week = {\n",
    "    \"D1\" : \"Monday\",\n",
    "    \"D2\" : \"Tuesday\",\n",
    "    \"D3\" : \"Wednesday\",\n",
    "    \"D4\" : \"Thursday\",\n",
    "    \"D5\" : \"Friday\",\n",
    "    \"D6\" : \"Saturday\",\n",
    "    \"D7\" : \"Sunday\",\n",
    "    \n",
    "}\n",
    "\n",
    "print (week[\"D2\"] + \"\\n\")\n",
    "\n",
    "#or....\n",
    "\n",
    "print (week.get(\"D7\") + \"\\n\")\n",
    "\n"
   ]
  },
  {
   "cell_type": "code",
   "execution_count": null,
   "metadata": {},
   "outputs": [
    {
     "name": "stdout",
     "output_type": "stream",
     "text": [
      "WHAT AM I? (you have 5 attempts)\n",
      " \n",
      " Children love to play with me\n",
      " I am not useful indoors\n",
      " Don't tangle my long string\n",
      " Look up and watch me dance\n",
      " Run if you want me to fly faster\n",
      " \n",
      "-----------------------------------------------------------------------------------------------------------------\n",
      "\n",
      "\n"
     ]
    }
   ],
   "source": [
    "# use case for while loop.\n",
    "# when to use it instead of a for loop?\n",
    "# example\n",
    "\n",
    "## Answer:\n",
    "\n",
    "\"\"\" 'While Loop' allows to execute a block of statements/code multiple times as long as given condition is true.\n",
    "While loop keeps looping through repeatedly unless certain condition becomes false. \n",
    "Whereas, 'For Loop' allows to loop over different collection of items, each time respresenting different value.\n",
    "For loop does not have a specific condition to meet for executing code. \"\"\"\n",
    "\n",
    "riddle = print (\"WHAT AM I? (you have 5 attempts)\\n \")\n",
    "\n",
    "answer = \"kite\"\n",
    "print(\" Children love to play with me\\n I am not useful indoors\\n Don't tangle my long string\\n Look up and watch me dance\\n Run if you want me to fly faster\\n \")\n",
    "print ('-----------------------------------------------------------------------------------------------------------------\\n\\n')\n",
    "guess = \" \"\n",
    "guess_count = 1\n",
    "guess_limit = 6\n",
    "out_of_guess = False\n",
    "\n",
    "\n",
    "while guess!= answer and not(out_of_guess):\n",
    "    if guess_count<guess_limit:\n",
    "        guess = input(\"Enter your guess: \")\n",
    "        if guess == answer:\n",
    "            print(\"\\n     Correct Answer. You Won!\")\n",
    "        else:\n",
    "            guess_count+=1\n",
    "\n",
    "    else:\n",
    "        out_of_guess = True\n",
    "        print (\"\\n       Out of Attempts. You Lost!\")"
   ]
  },
  {
   "cell_type": "code",
   "execution_count": null,
   "metadata": {},
   "outputs": [],
   "source": [
    "\"\"\"def element_present(L,e):\n",
    "    # return True/False depending if element 'e' is present in list 'L'\n",
    "    pass \"\"\"\n",
    "\n",
    "## Answer:\n",
    "\n",
    "def element_present(list, element):\n",
    "    for element in list:\n",
    "        count = list.count(\"e\")\n",
    "        length = len(list)\n",
    "    print (\"There are \" + str(count) + \" 'e's in the list of \" + str(length) + \" elements.\")   \n",
    "element_present(\"engineering\",\"e\")"
   ]
  },
  {
   "cell_type": "code",
   "execution_count": null,
   "metadata": {},
   "outputs": [],
   "source": [
    "\n",
    "\n",
    "\n",
    "list = [5,8,4,9,3,1,7,2,0,6]\n",
    "\n",
    "for j in range(0,10):\n",
    "    \n",
    " for i in range(0,9):\n",
    "    if list[i] > list[i+1]:\n",
    "        swap = list[i]\n",
    "        list[i] = list[i+1]\n",
    "        list[i+1] = swap\n",
    "print (list)"
   ]
  },
  {
   "cell_type": "code",
   "execution_count": null,
   "metadata": {},
   "outputs": [],
   "source": []
  }
 ],
 "metadata": {
  "kernelspec": {
   "display_name": "Python 3",
   "language": "python",
   "name": "python3"
  },
  "language_info": {
   "codemirror_mode": {
    "name": "ipython",
    "version": 3
   },
   "file_extension": ".py",
   "mimetype": "text/x-python",
   "name": "python",
   "nbconvert_exporter": "python",
   "pygments_lexer": "ipython3",
   "version": "3.6.5"
  }
 },
 "nbformat": 4,
 "nbformat_minor": 2
}

{
 "cells": [
  {
   "cell_type": "markdown",
   "metadata": {},
   "source": [
    "# LIBRARIES"
   ]
  },
  {
   "cell_type": "code",
   "execution_count": 40,
   "metadata": {},
   "outputs": [],
   "source": [
    "import numpy as np\n",
    "import pickle\n",
    "import tensorflow as tf\n",
    "import os\n",
    "import matplotlib.pyplot as plt\n",
    "%matplotlib inline\n",
    "%config InlineBackend.figure_format = 'retina'\n",
    "import sklearn\n"
   ]
  },
  {
   "cell_type": "markdown",
   "metadata": {},
   "source": [
    "# LOAD DATASET"
   ]
  },
  {
   "cell_type": "code",
   "execution_count": 41,
   "metadata": {},
   "outputs": [],
   "source": [
    "\n",
    "path ='cifar-10-batches-py'\n"
   ]
  },
  {
   "cell_type": "code",
   "execution_count": 42,
   "metadata": {},
   "outputs": [],
   "source": [
    "\n",
    "def load_cfar10_batch(path):\n",
    "    with open(path + '/data_batch_1', mode='rb') as file:\n",
    "        batch = pickle.load(file, encoding='latin1')   \n",
    "    \n",
    "    features = batch['data']\n",
    "    labels = batch['labels']\n",
    "    \n",
    "    return features, labels\n"
   ]
  },
  {
   "cell_type": "code",
   "execution_count": 43,
   "metadata": {},
   "outputs": [],
   "source": [
    "features,labels = load_cfar10_batch(path)"
   ]
  },
  {
   "cell_type": "code",
   "execution_count": 44,
   "metadata": {},
   "outputs": [
    {
     "data": {
      "text/plain": [
       "(10000, 3072)"
      ]
     },
     "execution_count": 44,
     "metadata": {},
     "output_type": "execute_result"
    }
   ],
   "source": [
    "features.shape"
   ]
  },
  {
   "cell_type": "code",
   "execution_count": 45,
   "metadata": {},
   "outputs": [
    {
     "data": {
      "text/plain": [
       "10000"
      ]
     },
     "execution_count": 45,
     "metadata": {},
     "output_type": "execute_result"
    }
   ],
   "source": [
    "len(labels)"
   ]
  },
  {
   "cell_type": "markdown",
   "metadata": {},
   "source": [
    "# RESHAPE"
   ]
  },
  {
   "cell_type": "code",
   "execution_count": 46,
   "metadata": {},
   "outputs": [
    {
     "data": {
      "text/plain": [
       "(10000, 32, 32, 3)"
      ]
     },
     "execution_count": 46,
     "metadata": {},
     "output_type": "execute_result"
    }
   ],
   "source": [
    "\n",
    "x = features.reshape((len(features), 3, 32, 32)).transpose(0, 2, 3, 1) \n",
    "x.shape\n"
   ]
  },
  {
   "cell_type": "markdown",
   "metadata": {},
   "source": [
    "# ONE HOT ENCODE"
   ]
  },
  {
   "cell_type": "code",
   "execution_count": 47,
   "metadata": {},
   "outputs": [],
   "source": [
    "y = labels\n",
    "def one_hot_encode(y):\n",
    "    encoded = np.zeros((len(y), 10))\n",
    "    \n",
    "    for index, val in enumerate(y):\n",
    "        encoded[index][val] = 1\n",
    "    \n",
    "    return encoded\n",
    "\n",
    "encoded = one_hot_encode(y)"
   ]
  },
  {
   "cell_type": "code",
   "execution_count": 48,
   "metadata": {},
   "outputs": [
    {
     "data": {
      "text/plain": [
       "10000"
      ]
     },
     "execution_count": 48,
     "metadata": {},
     "output_type": "execute_result"
    }
   ],
   "source": [
    "len(y)"
   ]
  },
  {
   "cell_type": "markdown",
   "metadata": {},
   "source": [
    "# NORMALIZE"
   ]
  },
  {
   "cell_type": "code",
   "execution_count": 49,
   "metadata": {},
   "outputs": [
    {
     "name": "stdout",
     "output_type": "stream",
     "text": [
      "0.0\n",
      "1.0\n"
     ]
    }
   ],
   "source": [
    "def normalize(x):\n",
    "    x_norm = x/255\n",
    "    print (x_norm.min())\n",
    "    print (x_norm.max())\n",
    "    return x_norm\n",
    "x_norm = normalize(x)"
   ]
  },
  {
   "cell_type": "code",
   "execution_count": 50,
   "metadata": {},
   "outputs": [
    {
     "data": {
      "text/plain": [
       "array([[[[0.23137255, 0.24313725, 0.24705882],\n",
       "         [0.16862745, 0.18039216, 0.17647059],\n",
       "         [0.19607843, 0.18823529, 0.16862745],\n",
       "         ...,\n",
       "         [0.61960784, 0.51764706, 0.42352941],\n",
       "         [0.59607843, 0.49019608, 0.4       ],\n",
       "         [0.58039216, 0.48627451, 0.40392157]],\n",
       "\n",
       "        [[0.0627451 , 0.07843137, 0.07843137],\n",
       "         [0.        , 0.        , 0.        ],\n",
       "         [0.07058824, 0.03137255, 0.        ],\n",
       "         ...,\n",
       "         [0.48235294, 0.34509804, 0.21568627],\n",
       "         [0.46666667, 0.3254902 , 0.19607843],\n",
       "         [0.47843137, 0.34117647, 0.22352941]],\n",
       "\n",
       "        [[0.09803922, 0.09411765, 0.08235294],\n",
       "         [0.0627451 , 0.02745098, 0.        ],\n",
       "         [0.19215686, 0.10588235, 0.03137255],\n",
       "         ...,\n",
       "         [0.4627451 , 0.32941176, 0.19607843],\n",
       "         [0.47058824, 0.32941176, 0.19607843],\n",
       "         [0.42745098, 0.28627451, 0.16470588]],\n",
       "\n",
       "        ...,\n",
       "\n",
       "        [[0.81568627, 0.66666667, 0.37647059],\n",
       "         [0.78823529, 0.6       , 0.13333333],\n",
       "         [0.77647059, 0.63137255, 0.10196078],\n",
       "         ...,\n",
       "         [0.62745098, 0.52156863, 0.2745098 ],\n",
       "         [0.21960784, 0.12156863, 0.02745098],\n",
       "         [0.20784314, 0.13333333, 0.07843137]],\n",
       "\n",
       "        [[0.70588235, 0.54509804, 0.37647059],\n",
       "         [0.67843137, 0.48235294, 0.16470588],\n",
       "         [0.72941176, 0.56470588, 0.11764706],\n",
       "         ...,\n",
       "         [0.72156863, 0.58039216, 0.36862745],\n",
       "         [0.38039216, 0.24313725, 0.13333333],\n",
       "         [0.3254902 , 0.20784314, 0.13333333]],\n",
       "\n",
       "        [[0.69411765, 0.56470588, 0.45490196],\n",
       "         [0.65882353, 0.50588235, 0.36862745],\n",
       "         [0.70196078, 0.55686275, 0.34117647],\n",
       "         ...,\n",
       "         [0.84705882, 0.72156863, 0.54901961],\n",
       "         [0.59215686, 0.4627451 , 0.32941176],\n",
       "         [0.48235294, 0.36078431, 0.28235294]]],\n",
       "\n",
       "\n",
       "       [[[0.60392157, 0.69411765, 0.73333333],\n",
       "         [0.49411765, 0.5372549 , 0.53333333],\n",
       "         [0.41176471, 0.40784314, 0.37254902],\n",
       "         ...,\n",
       "         [0.35686275, 0.37254902, 0.27843137],\n",
       "         [0.34117647, 0.35294118, 0.27843137],\n",
       "         [0.30980392, 0.31764706, 0.2745098 ]],\n",
       "\n",
       "        [[0.54901961, 0.62745098, 0.6627451 ],\n",
       "         [0.56862745, 0.6       , 0.60392157],\n",
       "         [0.49019608, 0.49019608, 0.4627451 ],\n",
       "         ...,\n",
       "         [0.37647059, 0.38823529, 0.30588235],\n",
       "         [0.30196078, 0.31372549, 0.24313725],\n",
       "         [0.27843137, 0.28627451, 0.23921569]],\n",
       "\n",
       "        [[0.54901961, 0.60784314, 0.64313725],\n",
       "         [0.54509804, 0.57254902, 0.58431373],\n",
       "         [0.45098039, 0.45098039, 0.43921569],\n",
       "         ...,\n",
       "         [0.30980392, 0.32156863, 0.25098039],\n",
       "         [0.26666667, 0.2745098 , 0.21568627],\n",
       "         [0.2627451 , 0.27058824, 0.21568627]],\n",
       "\n",
       "        ...,\n",
       "\n",
       "        [[0.68627451, 0.65490196, 0.65098039],\n",
       "         [0.61176471, 0.60392157, 0.62745098],\n",
       "         [0.60392157, 0.62745098, 0.66666667],\n",
       "         ...,\n",
       "         [0.16470588, 0.13333333, 0.14117647],\n",
       "         [0.23921569, 0.20784314, 0.22352941],\n",
       "         [0.36470588, 0.3254902 , 0.35686275]],\n",
       "\n",
       "        [[0.64705882, 0.60392157, 0.50196078],\n",
       "         [0.61176471, 0.59607843, 0.50980392],\n",
       "         [0.62352941, 0.63137255, 0.55686275],\n",
       "         ...,\n",
       "         [0.40392157, 0.36470588, 0.37647059],\n",
       "         [0.48235294, 0.44705882, 0.47058824],\n",
       "         [0.51372549, 0.4745098 , 0.51372549]],\n",
       "\n",
       "        [[0.63921569, 0.58039216, 0.47058824],\n",
       "         [0.61960784, 0.58039216, 0.47843137],\n",
       "         [0.63921569, 0.61176471, 0.52156863],\n",
       "         ...,\n",
       "         [0.56078431, 0.52156863, 0.54509804],\n",
       "         [0.56078431, 0.5254902 , 0.55686275],\n",
       "         [0.56078431, 0.52156863, 0.56470588]]],\n",
       "\n",
       "\n",
       "       [[[1.        , 1.        , 1.        ],\n",
       "         [0.99215686, 0.99215686, 0.99215686],\n",
       "         [0.99215686, 0.99215686, 0.99215686],\n",
       "         ...,\n",
       "         [0.99215686, 0.99215686, 0.99215686],\n",
       "         [0.99215686, 0.99215686, 0.99215686],\n",
       "         [0.99215686, 0.99215686, 0.99215686]],\n",
       "\n",
       "        [[1.        , 1.        , 1.        ],\n",
       "         [1.        , 1.        , 1.        ],\n",
       "         [1.        , 1.        , 1.        ],\n",
       "         ...,\n",
       "         [1.        , 1.        , 1.        ],\n",
       "         [1.        , 1.        , 1.        ],\n",
       "         [1.        , 1.        , 1.        ]],\n",
       "\n",
       "        [[1.        , 1.        , 1.        ],\n",
       "         [0.99607843, 0.99607843, 0.99607843],\n",
       "         [0.99607843, 0.99607843, 0.99607843],\n",
       "         ...,\n",
       "         [0.99607843, 0.99607843, 0.99607843],\n",
       "         [0.99607843, 0.99607843, 0.99607843],\n",
       "         [0.99607843, 0.99607843, 0.99607843]],\n",
       "\n",
       "        ...,\n",
       "\n",
       "        [[0.44313725, 0.47058824, 0.43921569],\n",
       "         [0.43529412, 0.4627451 , 0.43529412],\n",
       "         [0.41176471, 0.43921569, 0.41568627],\n",
       "         ...,\n",
       "         [0.28235294, 0.31764706, 0.31372549],\n",
       "         [0.28235294, 0.31372549, 0.30980392],\n",
       "         [0.28235294, 0.31372549, 0.30980392]],\n",
       "\n",
       "        [[0.43529412, 0.4627451 , 0.43137255],\n",
       "         [0.40784314, 0.43529412, 0.40784314],\n",
       "         [0.38823529, 0.41568627, 0.38431373],\n",
       "         ...,\n",
       "         [0.26666667, 0.29411765, 0.28627451],\n",
       "         [0.2745098 , 0.29803922, 0.29411765],\n",
       "         [0.30588235, 0.32941176, 0.32156863]],\n",
       "\n",
       "        [[0.41568627, 0.44313725, 0.41176471],\n",
       "         [0.38823529, 0.41568627, 0.38431373],\n",
       "         [0.37254902, 0.4       , 0.36862745],\n",
       "         ...,\n",
       "         [0.30588235, 0.33333333, 0.3254902 ],\n",
       "         [0.30980392, 0.33333333, 0.3254902 ],\n",
       "         [0.31372549, 0.3372549 , 0.32941176]]],\n",
       "\n",
       "\n",
       "       ...,\n",
       "\n",
       "\n",
       "       [[[0.27843137, 0.30196078, 0.17254902],\n",
       "         [0.23529412, 0.27058824, 0.1372549 ],\n",
       "         [0.29019608, 0.3254902 , 0.21960784],\n",
       "         ...,\n",
       "         [0.98431373, 0.98431373, 0.99215686],\n",
       "         [1.        , 1.        , 1.        ],\n",
       "         [0.74901961, 0.75294118, 0.72941176]],\n",
       "\n",
       "        [[0.34901961, 0.37647059, 0.24313725],\n",
       "         [0.31372549, 0.34901961, 0.22745098],\n",
       "         [0.2627451 , 0.30196078, 0.2       ],\n",
       "         ...,\n",
       "         [0.98039216, 0.97254902, 0.97647059],\n",
       "         [1.        , 0.99607843, 0.99607843],\n",
       "         [0.70980392, 0.70980392, 0.66666667]],\n",
       "\n",
       "        [[0.29019608, 0.31372549, 0.18039216],\n",
       "         [0.27058824, 0.30196078, 0.19607843],\n",
       "         [0.26666667, 0.30196078, 0.20784314],\n",
       "         ...,\n",
       "         [0.96470588, 0.96078431, 0.97254902],\n",
       "         [0.99607843, 0.99607843, 0.99607843],\n",
       "         [0.75686275, 0.76470588, 0.71764706]],\n",
       "\n",
       "        ...,\n",
       "\n",
       "        [[0.32941176, 0.33333333, 0.32941176],\n",
       "         [0.31372549, 0.31764706, 0.31764706],\n",
       "         [0.31372549, 0.31372549, 0.31372549],\n",
       "         ...,\n",
       "         [0.16078431, 0.16862745, 0.18823529],\n",
       "         [0.21568627, 0.21568627, 0.23137255],\n",
       "         [0.23921569, 0.24313725, 0.24705882]],\n",
       "\n",
       "        [[0.2627451 , 0.25882353, 0.2627451 ],\n",
       "         [0.25490196, 0.25098039, 0.25098039],\n",
       "         [0.24313725, 0.23921569, 0.23921569],\n",
       "         ...,\n",
       "         [0.24705882, 0.24705882, 0.25490196],\n",
       "         [0.26666667, 0.25882353, 0.2627451 ],\n",
       "         [0.27843137, 0.2745098 , 0.2627451 ]],\n",
       "\n",
       "        [[0.25882353, 0.16862745, 0.10980392],\n",
       "         [0.25882353, 0.17254902, 0.10980392],\n",
       "         [0.25490196, 0.16470588, 0.10588235],\n",
       "         ...,\n",
       "         [0.31372549, 0.28627451, 0.26666667],\n",
       "         [0.3254902 , 0.29411765, 0.27058824],\n",
       "         [0.32941176, 0.30196078, 0.26666667]]],\n",
       "\n",
       "\n",
       "       [[[0.98039216, 1.        , 1.        ],\n",
       "         [0.99607843, 0.99215686, 0.99607843],\n",
       "         [0.82745098, 0.87843137, 0.8627451 ],\n",
       "         ...,\n",
       "         [0.7372549 , 0.76470588, 0.75686275],\n",
       "         [1.        , 1.        , 1.        ],\n",
       "         [1.        , 0.99607843, 1.        ]],\n",
       "\n",
       "        [[0.98039216, 1.        , 1.        ],\n",
       "         [1.        , 0.99607843, 1.        ],\n",
       "         [0.83529412, 0.88235294, 0.87058824],\n",
       "         ...,\n",
       "         [0.74117647, 0.77647059, 0.76470588],\n",
       "         [1.        , 1.        , 1.        ],\n",
       "         [1.        , 0.99607843, 1.        ]],\n",
       "\n",
       "        [[0.98039216, 1.        , 1.        ],\n",
       "         [1.        , 0.99607843, 1.        ],\n",
       "         [0.83529412, 0.88627451, 0.87058824],\n",
       "         ...,\n",
       "         [0.72941176, 0.77647059, 0.76078431],\n",
       "         [1.        , 1.        , 1.        ],\n",
       "         [1.        , 0.99607843, 1.        ]],\n",
       "\n",
       "        ...,\n",
       "\n",
       "        [[1.        , 0.99607843, 1.        ],\n",
       "         [0.99607843, 0.99607843, 1.        ],\n",
       "         [0.83529412, 0.87843137, 0.86666667],\n",
       "         ...,\n",
       "         [0.82745098, 0.82745098, 0.84313725],\n",
       "         [1.        , 1.        , 1.        ],\n",
       "         [1.        , 0.99607843, 0.99607843]],\n",
       "\n",
       "        [[1.        , 0.99607843, 1.        ],\n",
       "         [0.98823529, 0.99215686, 0.99215686],\n",
       "         [0.85098039, 0.88235294, 0.87058824],\n",
       "         ...,\n",
       "         [0.83921569, 0.83529412, 0.84705882],\n",
       "         [1.        , 1.        , 1.        ],\n",
       "         [1.        , 0.99607843, 0.99607843]],\n",
       "\n",
       "        [[1.        , 0.99607843, 1.        ],\n",
       "         [0.99215686, 0.99215686, 0.99215686],\n",
       "         [0.85490196, 0.86666667, 0.8627451 ],\n",
       "         ...,\n",
       "         [0.83921569, 0.83137255, 0.84313725],\n",
       "         [1.        , 1.        , 1.        ],\n",
       "         [1.        , 0.99607843, 0.99607843]]],\n",
       "\n",
       "\n",
       "       [[[0.24313725, 0.21568627, 0.02745098],\n",
       "         [0.23921569, 0.21568627, 0.02745098],\n",
       "         [0.23529412, 0.21568627, 0.02352941],\n",
       "         ...,\n",
       "         [0.25098039, 0.22745098, 0.03921569],\n",
       "         [0.32156863, 0.29411765, 0.10980392],\n",
       "         [0.24313725, 0.21568627, 0.03529412]],\n",
       "\n",
       "        [[0.24313725, 0.21960784, 0.02745098],\n",
       "         [0.24705882, 0.20392157, 0.03137255],\n",
       "         [0.23921569, 0.18823529, 0.02352941],\n",
       "         ...,\n",
       "         [0.30196078, 0.27058824, 0.10980392],\n",
       "         [0.44705882, 0.41960784, 0.25490196],\n",
       "         [0.25098039, 0.22352941, 0.04705882]],\n",
       "\n",
       "        [[0.2627451 , 0.23137255, 0.05882353],\n",
       "         [0.30588235, 0.24313725, 0.10980392],\n",
       "         [0.45098039, 0.36470588, 0.25882353],\n",
       "         ...,\n",
       "         [0.39215686, 0.36078431, 0.22745098],\n",
       "         [0.46666667, 0.43529412, 0.29019608],\n",
       "         [0.24705882, 0.21960784, 0.04705882]],\n",
       "\n",
       "        ...,\n",
       "\n",
       "        [[0.63137255, 0.75294118, 0.49019608],\n",
       "         [0.62352941, 0.74509804, 0.48235294],\n",
       "         [0.62352941, 0.74509804, 0.48235294],\n",
       "         ...,\n",
       "         [0.59607843, 0.65490196, 0.48235294],\n",
       "         [0.61568627, 0.74509804, 0.50196078],\n",
       "         [0.61176471, 0.75294118, 0.48235294]],\n",
       "\n",
       "        [[0.63921569, 0.76470588, 0.49803922],\n",
       "         [0.63137255, 0.75294118, 0.49019608],\n",
       "         [0.63529412, 0.75686275, 0.49411765],\n",
       "         ...,\n",
       "         [0.63529412, 0.74901961, 0.50196078],\n",
       "         [0.63137255, 0.75686275, 0.49803922],\n",
       "         [0.63137255, 0.75686275, 0.49411765]],\n",
       "\n",
       "        [[0.6627451 , 0.78823529, 0.51764706],\n",
       "         [0.65490196, 0.77647059, 0.50980392],\n",
       "         [0.65490196, 0.77647059, 0.51372549],\n",
       "         ...,\n",
       "         [0.65490196, 0.77647059, 0.50980392],\n",
       "         [0.65490196, 0.77647059, 0.50980392],\n",
       "         [0.65490196, 0.77647059, 0.51372549]]]])"
      ]
     },
     "execution_count": 50,
     "metadata": {},
     "output_type": "execute_result"
    }
   ],
   "source": [
    "x_norm"
   ]
  },
  {
   "cell_type": "code",
   "execution_count": 51,
   "metadata": {},
   "outputs": [
    {
     "data": {
      "text/plain": [
       "(10000, 32, 32, 3)"
      ]
     },
     "execution_count": 51,
     "metadata": {},
     "output_type": "execute_result"
    }
   ],
   "source": [
    "x_norm.shape"
   ]
  },
  {
   "cell_type": "markdown",
   "metadata": {},
   "source": [
    "# WHITENING "
   ]
  },
  {
   "cell_type": "code",
   "execution_count": 52,
   "metadata": {},
   "outputs": [
    {
     "data": {
      "text/plain": [
       "(32, 32, 3)"
      ]
     },
     "execution_count": 52,
     "metadata": {},
     "output_type": "execute_result"
    }
   ],
   "source": [
    "x[9999].shape"
   ]
  },
  {
   "cell_type": "code",
   "execution_count": 53,
   "metadata": {},
   "outputs": [
    {
     "data": {
      "text/plain": [
       "<matplotlib.image.AxesImage at 0x1c2a107e780>"
      ]
     },
     "execution_count": 53,
     "metadata": {},
     "output_type": "execute_result"
    },
    {
     "data": {
      "image/png": "[encoded data removed]",
      "text/plain": [
       "<Figure size 432x288 with 1 Axes>"
      ]
     },
     "metadata": {
      "image/png": {
       "height": 250,
       "width": 253
      },
      "needs_background": "light"
     },
     "output_type": "display_data"
    }
   ],
   "source": [
    "plt.imshow(x[9999])   #Original Image"
   ]
  },
  {
   "cell_type": "code",
   "execution_count": 54,
   "metadata": {},
   "outputs": [
    {
     "name": "stderr",
     "output_type": "stream",
     "text": [
      "c:\\users\\i_m_n\\appdata\\local\\programs\\python\\python36\\lib\\site-packages\\sklearn\\utils\\validation.py:595: DataConversionWarning: Data with input dtype uint8 was converted to float64 by StandardScaler.\n",
      "  warnings.warn(msg, DataConversionWarning)\n",
      "c:\\users\\i_m_n\\appdata\\local\\programs\\python\\python36\\lib\\site-packages\\sklearn\\utils\\validation.py:595: DataConversionWarning: Data with input dtype uint8 was converted to float64 by StandardScaler.\n",
      "  warnings.warn(msg, DataConversionWarning)\n",
      "Clipping input data to the valid range for imshow with RGB data ([0..1] for floats or [0..255] for integers).\n"
     ]
    },
    {
     "data": {
      "text/plain": [
       "<matplotlib.image.AxesImage at 0x1c2a10dd390>"
      ]
     },
     "execution_count": 54,
     "metadata": {},
     "output_type": "execute_result"
    },
    {
     "data": {
      "image/png": "[encoded data removed]",
      "text/plain": [
       "<Figure size 432x288 with 1 Axes>"
      ]
     },
     "metadata": {
      "image/png": {
       "height": 250,
       "width": 253
      },
      "needs_background": "light"
     },
     "output_type": "display_data"
    }
   ],
   "source": [
    "from sklearn import preprocessing\n",
    "scaler = preprocessing.StandardScaler()\n",
    "scaled_df = scaler.fit_transform(features)\n",
    "scaled_df = scaled_df.reshape(10000,3,32,32).transpose(0,2,3,1)\n",
    "\n",
    "plt.imshow(scaled_df[9999])  #Whitened Image"
   ]
  },
  {
   "cell_type": "markdown",
   "metadata": {},
   "source": [
    "# SPLIT THE DATASET 80% 20%"
   ]
  },
  {
   "cell_type": "code",
   "execution_count": 55,
   "metadata": {},
   "outputs": [],
   "source": [
    "from sklearn.model_selection import train_test_split\n",
    "x_train, x_test, y_train, y_test = train_test_split(features, labels, test_size=0.2)\n",
    "    "
   ]
  },
  {
   "cell_type": "code",
   "execution_count": 56,
   "metadata": {},
   "outputs": [
    {
     "data": {
      "text/plain": [
       "(8000, 3072)"
      ]
     },
     "execution_count": 56,
     "metadata": {},
     "output_type": "execute_result"
    }
   ],
   "source": [
    "x_train.shape"
   ]
  },
  {
   "cell_type": "code",
   "execution_count": 57,
   "metadata": {},
   "outputs": [
    {
     "data": {
      "text/plain": [
       "(2000, 3072)"
      ]
     },
     "execution_count": 57,
     "metadata": {},
     "output_type": "execute_result"
    }
   ],
   "source": [
    "x_test.shape"
   ]
  },
  {
   "cell_type": "markdown",
   "metadata": {},
   "source": [
    "# SAVE THE RESULTS"
   ]
  },
  {
   "cell_type": "code",
   "execution_count": 58,
   "metadata": {},
   "outputs": [],
   "source": [
    "def preprocess(normalize, one_hot_encode, features, labels, filename):\n",
    "    features = normalize(x)    \n",
    "    labels = one_hot_encode(y) \n",
    "\n",
    "    pickle.dump((features, labels), open(filename, 'wb')) "
   ]
  },
  {
   "cell_type": "code",
   "execution_count": 59,
   "metadata": {
    "scrolled": true
   },
   "outputs": [
    {
     "name": "stdout",
     "output_type": "stream",
     "text": [
      "0.0\n",
      "1.0\n",
      "0.0\n",
      "1.0\n"
     ]
    }
   ],
   "source": [
    "   \n",
    "def save_data(path, normalize, one_hot_encode):\n",
    "    features, labels = load_cfar10_batch(path)\n",
    "    \n",
    "    preprocess(normalize, one_hot_encode, np.array(x_test), np.array(y_test), 'Preprocess_testing.p')\n",
    "    preprocess(normalize, one_hot_encode, np.array(x_train), np.array(y_train), 'Preprocess_training.p') \n",
    "\n",
    "save_data(path, normalize, one_hot_encode)"
   ]
  },
  {
   "cell_type": "code",
   "execution_count": 60,
   "metadata": {},
   "outputs": [],
   "source": [
    "x_test, y_test = pickle.load(open('Preprocess_testing.p', mode='rb'))\n",
    "x_train, y_train = pickle.load(open('Preprocess_training.p', mode='rb'))"
   ]
  },
  {
   "cell_type": "markdown",
   "metadata": {},
   "source": [
    "# PREPARE THE MODEL"
   ]
  },
  {
   "cell_type": "code",
   "execution_count": 61,
   "metadata": {},
   "outputs": [],
   "source": [
    "def tf_reset():\n",
    "    try:\n",
    "        sess.close()\n",
    "    except:\n",
    "        pass\n",
    "    tf.reset_default_graph()\n",
    "    return tf.Session()"
   ]
  },
  {
   "cell_type": "code",
   "execution_count": 62,
   "metadata": {},
   "outputs": [],
   "source": [
    "sess = tf_reset()"
   ]
  },
  {
   "cell_type": "code",
   "execution_count": 63,
   "metadata": {},
   "outputs": [],
   "source": [
    "\"\"\"Inputs\"\"\"\n",
    "\n",
    "x = tf.placeholder(tf.float32, shape=(None, 32, 32, 3), name='input_x') #image data to learn and predict\n",
    "y =  tf.placeholder(tf.float32, shape=(None, 10), name='output_y')      #label data to compare with predicted output\n",
    "keep_prob = tf.placeholder(tf.float32, name='keep_prob')                #probablity of units of each layer"
   ]
  },
  {
   "cell_type": "code",
   "execution_count": 85,
   "metadata": {},
   "outputs": [],
   "source": [
    "\"\"\"Creating the model\"\"\"\n",
    "\n",
    "def conv_net(x, keep_prob):\n",
    "    \n",
    "    conv1_filter = tf.Variable(tf.truncated_normal(shape=[3, 3, 3, 64]))    #64 filters in size 3x3\n",
    "    conv2_filter = tf.Variable(tf.truncated_normal(shape=[3, 3, 64, 128]))  #128 filters\n",
    "    conv3_filter = tf.Variable(tf.truncated_normal(shape=[5, 5, 128, 256])) #256 filters\n",
    "    conv4_filter = tf.Variable(tf.truncated_normal(shape=[5, 5, 256, 512])) #512 filters\n",
    "\n",
    "\n",
    " #Layer1\n",
    "    conv1 = tf.nn.conv2d(x, conv1_filter, strides=[1,1,1,1], padding='SAME') #Computes 2D convolution given 4D i/p & filter tensors\n",
    "    conv1 = tf.nn.relu(conv1)   #max(0, x)\n",
    "    conv1_pool = tf.nn.max_pool(conv1, ksize=[1,2,2,1], strides=[1,2,2,1], padding='SAME') #move filter & chose max. value\n",
    "    conv1_bn = tf.layers.batch_normalization(conv1_pool) #Calculate mean & variance, normalize, scale & shift\n",
    "\n",
    " #Layer2\n",
    "    conv2 = tf.nn.conv2d(conv1_bn, conv2_filter, strides=[1,1,1,1], padding='SAME')\n",
    "    conv2 = tf.nn.relu(conv2)\n",
    "    conv2_pool = tf.nn.max_pool(conv2, ksize=[1,2,2,1], strides=[1,2,2,1], padding='SAME')  #shrinks the same to half size\n",
    "    conv2_bn = tf.layers.batch_normalization(conv2_pool)\n",
    "  \n",
    " #Layer 3\n",
    "    conv3 = tf.nn.conv2d(conv2_bn, conv3_filter, strides=[1,1,1,1], padding='SAME')\n",
    "    conv3 = tf.nn.relu(conv3)\n",
    "    conv3_pool = tf.nn.max_pool(conv3, ksize=[1,2,2,1], strides=[1,2,2,1], padding='SAME')  \n",
    "    conv3_bn = tf.layers.batch_normalization(conv3_pool)\n",
    "    \n",
    " #Layer 4\n",
    "    conv4 = tf.nn.conv2d(conv3_bn, conv4_filter, strides=[1,1,1,1], padding='SAME')\n",
    "    conv4 = tf.nn.relu(conv4)\n",
    "    conv4_pool = tf.nn.max_pool(conv4, ksize=[1,2,2,1], strides=[1,2,2,1], padding='SAME')\n",
    "    conv4_bn = tf.layers.batch_normalization(conv4_pool)\n",
    "    \n",
    " \n",
    "    flat = tf.contrib.layers.flatten(conv4_bn)   #flattening the output of the last convolving operations\n",
    "\n",
    "\n",
    "    full1 = tf.contrib.layers.fully_connected(inputs=flat, num_outputs=128, activation_fn=tf.nn.relu) #fC Layer with 128 units\n",
    "    full1 = tf.nn.dropout(full1, keep_prob) #ignores previous units/weights\n",
    "    full1 = tf.layers.batch_normalization(full1)\n",
    "    \n",
    "\n",
    "    full2 = tf.contrib.layers.fully_connected(inputs=full1, num_outputs=256, activation_fn=tf.nn.relu)\n",
    "    full2 = tf.nn.dropout(full2, keep_prob)\n",
    "    full2 = tf.layers.batch_normalization(full2)\n",
    "    \n",
    "\n",
    "    full3 = tf.contrib.layers.fully_connected(inputs=full2, num_outputs=512, activation_fn=tf.nn.relu)\n",
    "    full3 = tf.nn.dropout(full3, keep_prob)\n",
    "    full3 = tf.layers.batch_normalization(full3)    \n",
    "    \n",
    "\n",
    "    full4 = tf.contrib.layers.fully_connected(inputs=full3, num_outputs=1024, activation_fn=tf.nn.relu)\n",
    "    full4 = tf.nn.dropout(full4, keep_prob)\n",
    "    full4 = tf.layers.batch_normalization(full4)        \n",
    "\n",
    "    \n",
    "    out = tf.contrib.layers.fully_connected(inputs=full3, num_outputs=10, activation_fn=None)\n",
    "    \n",
    "    return out    #Fully Connected Layer with 10 units (number of image classes)"
   ]
  },
  {
   "cell_type": "markdown",
   "metadata": {},
   "source": [
    "# HYPERPARAMETERS"
   ]
  },
  {
   "cell_type": "code",
   "execution_count": 86,
   "metadata": {},
   "outputs": [],
   "source": [
    "iterations = 101\n",
    "batch_size = 128\n",
    "keep_probability = 0.7\n",
    "learning_rate = 0.001"
   ]
  },
  {
   "cell_type": "markdown",
   "metadata": {},
   "source": [
    "# LOSS FUNCTION & OPTIMIZER"
   ]
  },
  {
   "cell_type": "code",
   "execution_count": 87,
   "metadata": {},
   "outputs": [],
   "source": [
    "logits = conv_net(x, keep_prob)\n",
    "\n",
    "\n",
    "cost = tf.reduce_mean(tf.nn.softmax_cross_entropy_with_logits(logits=logits, labels=y))   #loss\n",
    "optimizer = tf.train.AdamOptimizer(learning_rate=learning_rate).minimize(cost)     #optimizer\n",
    "\n",
    "\n",
    "correct_pred = tf.equal(tf.argmax(logits, 1), tf.argmax(y, 1))\n",
    "accuracy = tf.reduce_mean(tf.cast(correct_pred, tf.float32), name='accuracy')  #accuracy"
   ]
  },
  {
   "cell_type": "markdown",
   "metadata": {},
   "source": [
    "# TRAIN THE NETWORK"
   ]
  },
  {
   "cell_type": "code",
   "execution_count": 88,
   "metadata": {},
   "outputs": [],
   "source": [
    "def train_neural_network(session, optimizer, keep_probability, feature_batch, label_batch):\n",
    "    session.run(optimizer, \n",
    "                feed_dict={\n",
    "                    x: feature_batch,\n",
    "                    y: label_batch,\n",
    "                    keep_prob: keep_probability\n",
    "                })"
   ]
  },
  {
   "cell_type": "code",
   "execution_count": 89,
   "metadata": {},
   "outputs": [],
   "source": [
    "def print_stats(sess, feature_batch, label_batch, cost, accuracy):\n",
    "    loss = sess.run(cost, \n",
    "                    feed_dict={\n",
    "                        x: feature_batch,\n",
    "                        y: label_batch,\n",
    "                        keep_prob: 1.\n",
    "                    })\n",
    "    valid_acc = sess.run(accuracy, \n",
    "                         feed_dict={\n",
    "                             x: x_train,\n",
    "                             y: y_train,\n",
    "                             keep_prob: 1.\n",
    "                         })\n",
    "    \n",
    "    print('Loss: {:>10.4f}, Accuracy: {:.6f}'.format(loss, valid_acc))"
   ]
  },
  {
   "cell_type": "code",
   "execution_count": 90,
   "metadata": {},
   "outputs": [],
   "source": [
    "def batch_features_labels(features, labels, batch_size):   #split features and labels for the batch size\n",
    "    \n",
    "    features = features.reshape((len(features), 3, 32, 32)).transpose(0, 2, 3, 1)\n",
    "    for start in range(0, len(features), batch_size):\n",
    "        end = min(start + batch_size, len(features))\n",
    "        yield features[start:end], labels[start:end]\n",
    "\n",
    "def load_training(batch_size):   #load the Preprocessed Training data\n",
    "    \n",
    "    filename = 'Preprocess_training.p'\n",
    "    features, labels = pickle.load(open(filename, mode='rb'))\n",
    "\n",
    "    return batch_features_labels(features, labels, batch_size)"
   ]
  },
  {
   "cell_type": "markdown",
   "metadata": {},
   "source": [
    "# STATS"
   ]
  },
  {
   "cell_type": "code",
   "execution_count": 91,
   "metadata": {},
   "outputs": [
    {
     "name": "stdout",
     "output_type": "stream",
     "text": [
      "Training...\n",
      "Iterations 0, CIFAR-10 Batch 1:  Loss:     2.3021, Accuracy: 0.099000\n",
      "Iterations 10, CIFAR-10 Batch 1:  Loss:     2.3045, Accuracy: 0.100100\n",
      "Iterations 20, CIFAR-10 Batch 1:  Loss:     2.3040, Accuracy: 0.100100\n",
      "Iterations 30, CIFAR-10 Batch 1:  Loss:     2.3043, Accuracy: 0.100100\n",
      "Iterations 40, CIFAR-10 Batch 1:  Loss:     2.3037, Accuracy: 0.100000\n",
      "Iterations 50, CIFAR-10 Batch 1:  Loss:     2.3047, Accuracy: 0.100000\n",
      "Iterations 60, CIFAR-10 Batch 1:  Loss:     2.3032, Accuracy: 0.100000\n",
      "Iterations 70, CIFAR-10 Batch 1:  Loss:     2.3040, Accuracy: 0.100000\n",
      "Iterations 80, CIFAR-10 Batch 1:  Loss:     2.3049, Accuracy: 0.100000\n",
      "Iterations 90, CIFAR-10 Batch 1:  Loss:     2.3035, Accuracy: 0.100000\n",
      "Iterations 100, CIFAR-10 Batch 1:  Loss:     2.3040, Accuracy: 0.100000\n"
     ]
    }
   ],
   "source": [
    "\n",
    "\n",
    "print('Training...')\n",
    "with tf.Session() as sess:\n",
    "    \n",
    "    sess.run(tf.global_variables_initializer())  #initializing the variables\n",
    "    \n",
    "    \n",
    "    for i in range(iterations):     #training cycle\n",
    "        if i % 10 == 0:\n",
    "            for feature_batch, label_batch in load_training(batch_size):\n",
    "                train_neural_network(sess, optimizer, keep_probability, feature_batch, label_batch)\n",
    "                \n",
    "            print('Iterations {}, CIFAR-10 Batch 1:  '.format(i), end='')\n",
    "            print_stats(sess, feature_batch, label_batch, cost, accuracy)\n",
    "            \n"
   ]
  },
  {
   "cell_type": "markdown",
   "metadata": {},
   "source": [
    "# TEST THE MODEL"
   ]
  },
  {
   "cell_type": "code",
   "execution_count": 92,
   "metadata": {},
   "outputs": [],
   "source": [
    "def batch_features_labels(features, labels, batch_size):  #split features and labels \n",
    "    \n",
    "    for start in range(0, len(features), batch_size):\n",
    "        end = min(start + batch_size, len(features))\n",
    "        yield features[start:end], labels[start:end]\n",
    "        \n",
    "def load_testing(batch_size):   #load the Preprocessed Testing data\n",
    "  \n",
    "    filename = 'Preprocess.testing.p'\n",
    "    features, labels = pickle.load(open(filename, mode='rb'))\n",
    "\n",
    "    # Return the training data in batches of size <batch_size> or less\n",
    "    return batch_features_labels(features, labels, batch_size)\n",
    "\n",
    "\n",
    "\n",
    "\n"
   ]
  },
  {
   "cell_type": "code",
   "execution_count": 93,
   "metadata": {},
   "outputs": [],
   "source": [
    "\n",
    "def print_stats(sess, accuracy):\n",
    "    accuracy = sess.run(accuracy,\n",
    "                  feed_dict={\n",
    "                      x : x_test,\n",
    "                      y : y_test,\n",
    "                      keep_prob:1.0\n",
    "                          \n",
    "                  })\n",
    "    print(accuracy)\n"
   ]
  },
  {
   "cell_type": "code",
   "execution_count": 94,
   "metadata": {},
   "outputs": [
    {
     "name": "stdout",
     "output_type": "stream",
     "text": [
      "Testing...\n",
      "Tensor(\"accuracy_1:0\", shape=(), dtype=float32)\n",
      "0.0917\n"
     ]
    }
   ],
   "source": [
    "print('Testing...')\n",
    "\n",
    "with tf.Session() as sess:\n",
    "    sess.run(tf.global_variables_initializer())  #initializing the variables\n",
    "    print(accuracy , end='')\n",
    "    print()\n",
    "    print_stats(sess, accuracy)\n"
   ]
  },
  {
   "cell_type": "code",
   "execution_count": null,
   "metadata": {},
   "outputs": [],
   "source": []
  }
 ],
 "metadata": {
  "kernelspec": {
   "display_name": "Python 3",
   "language": "python",
   "name": "python3"
  },
  "language_info": {
   "codemirror_mode": {
    "name": "ipython",
    "version": 3
   },
   "file_extension": ".py",
   "mimetype": "text/x-python",
   "name": "python",
   "nbconvert_exporter": "python",
   "pygments_lexer": "ipython3",
   "version": "3.6.5"
  }
 },
 "nbformat": 4,
 "nbformat_minor": 2
}
